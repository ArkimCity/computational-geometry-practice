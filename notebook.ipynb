{
 "metadata": {
  "language_info": {
   "codemirror_mode": {
    "name": "ipython",
    "version": 3
   },
   "file_extension": ".py",
   "mimetype": "text/x-python",
   "name": "python",
   "nbconvert_exporter": "python",
   "pygments_lexer": "ipython3",
   "version": "3.9.5"
  },
  "orig_nbformat": 2,
  "kernelspec": {
   "name": "python395jvsc74a57bd04cd7ab41f5fca4b9b44701077e38c5ffd31fe66a6cab21e0214b68d958d0e462",
   "display_name": "Python 3.9.5 64-bit"
  },
  "metadata": {
   "interpreter": {
    "hash": "4cd7ab41f5fca4b9b44701077e38c5ffd31fe66a6cab21e0214b68d958d0e462"
   }
  }
 },
 "nbformat": 4,
 "nbformat_minor": 2,
 "cells": [
  {
   "cell_type": "code",
   "execution_count": 2,
   "metadata": {},
   "outputs": [
    {
     "output_type": "stream",
     "name": "stdout",
     "text": [
      "12.566370614359172\n8\n"
     ]
    }
   ],
   "source": [
    "import math\n",
    "r = int(input())\n",
    "print(r ** 2 * math.pi)\n",
    "print(r ** 2 * 2)"
   ]
  },
  {
   "cell_type": "code",
   "execution_count": 9,
   "metadata": {},
   "outputs": [
    {
     "output_type": "stream",
     "name": "stdout",
     "text": [
      "30 20\n"
     ]
    }
   ],
   "source": [
    "x_list, y_list = [], []\n",
    "for i in range(3):\n",
    "    x, y = map(int, input().split(' '))\n",
    "    x_list.append(x)\n",
    "    y_list.append(y)\n",
    "x_list.sort()\n",
    "y_list.sort()\n",
    "print(x_list[0] if x_list[1] == x_list[2] else x_list[2], y_list[0] if y_list[1] == y_list[2] else y_list[2])\n"
   ]
  },
  {
   "cell_type": "code",
   "execution_count": null,
   "metadata": {},
   "outputs": [],
   "source": [
    "#시작점을 포함하는 가장 작은 원을 포함하는 원을 포함하는 원들\n",
    "# 종점을 포함하는 가장 작은 원을 포함하는 원을 포함하는 원들"
   ]
  },
  {
   "cell_type": "code",
   "execution_count": 3,
   "metadata": {},
   "outputs": [
    {
     "output_type": "stream",
     "name": "stdout",
     "text": [
      "6\n",
      "4\n"
     ]
    }
   ],
   "source": [
    "for i in range(int(input())):\n",
    "    a,b = map(int, input().split(' '))\n",
    "    print(2 + b - a)"
   ]
  },
  {
   "cell_type": "code",
   "execution_count": 9,
   "metadata": {},
   "outputs": [
    {
     "output_type": "stream",
     "name": "stdout",
     "text": [
      "100.0\n"
     ]
    }
   ],
   "source": [
    "x_list, y_list, answer = [], [], 0\n",
    "\n",
    "for i in range(int(input())):\n",
    "    x, y = map(int, input().split(' '))\n",
    "    x_list.append(x)\n",
    "    y_list.append(y)\n",
    "\n",
    "for i in range(len(x_list) - 1):\n",
    "    answer += (x_list[i]  + x_list[i + 1]) * (y_list[i] - y_list[i+1]) / 2\n",
    "\n",
    "print(abs(answer))"
   ]
  },
  {
   "cell_type": "code",
   "execution_count": null,
   "metadata": {},
   "outputs": [],
   "source": []
  }
 ]
}