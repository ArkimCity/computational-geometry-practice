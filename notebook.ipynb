{
 "metadata": {
  "language_info": {
   "codemirror_mode": {
    "name": "ipython",
    "version": 3
   },
   "file_extension": ".py",
   "mimetype": "text/x-python",
   "name": "python",
   "nbconvert_exporter": "python",
   "pygments_lexer": "ipython3",
   "version": "3.9.1"
  },
  "orig_nbformat": 2,
  "kernelspec": {
   "name": "python391jvsc74a57bd063fd5069d213b44bf678585dea6b12cceca9941eaf7f819626cde1f2670de90d",
   "display_name": "Python 3.9.1 64-bit"
  },
  "metadata": {
   "interpreter": {
    "hash": "63fd5069d213b44bf678585dea6b12cceca9941eaf7f819626cde1f2670de90d"
   }
  }
 },
 "nbformat": 4,
 "nbformat_minor": 2,
 "cells": [
  {
   "cell_type": "code",
   "execution_count": 2,
   "metadata": {},
   "outputs": [
    {
     "output_type": "stream",
     "name": "stdout",
     "text": [
      "12.566370614359172\n8\n"
     ]
    }
   ],
   "source": [
    "import math\n",
    "r = int(input())\n",
    "print(r ** 2 * math.pi)\n",
    "print(r ** 2 * 2)"
   ]
  },
  {
   "cell_type": "code",
   "execution_count": 9,
   "metadata": {},
   "outputs": [
    {
     "output_type": "stream",
     "name": "stdout",
     "text": [
      "30 20\n"
     ]
    }
   ],
   "source": [
    "x_list, y_list = [], []\n",
    "for i in range(3):\n",
    "    x, y = map(int, input().split(' '))\n",
    "    x_list.append(x)\n",
    "    y_list.append(y)\n",
    "x_list.sort()\n",
    "y_list.sort()\n",
    "print(x_list[0] if x_list[1] == x_list[2] else x_list[2], y_list[0] if y_list[1] == y_list[2] else y_list[2])\n"
   ]
  },
  {
   "cell_type": "code",
   "execution_count": null,
   "metadata": {},
   "outputs": [],
   "source": [
    "#시작점을 포함하는 가장 작은 원을 포함하는 원을 포함하는 원들\n",
    "# 종점을 포함하는 가장 작은 원을 포함하는 원을 포함하는 원들"
   ]
  },
  {
   "cell_type": "code",
   "execution_count": 3,
   "metadata": {},
   "outputs": [
    {
     "output_type": "stream",
     "name": "stdout",
     "text": [
      "6\n",
      "4\n"
     ]
    }
   ],
   "source": [
    "for i in range(int(input())):\n",
    "    a,b = map(int, input().split(' '))\n",
    "    print(2 + b - a)"
   ]
  },
  {
   "cell_type": "code",
   "execution_count": 5,
   "metadata": {},
   "outputs": [
    {
     "output_type": "stream",
     "name": "stdout",
     "text": [
      "100.0\n"
     ]
    }
   ],
   "source": [
    "# 다각형의 면적 공식\n",
    "\n",
    "x_list, y_list, answer = [], [], 0\n",
    "\n",
    "for i in range(int(input())):\n",
    "    x, y = map(int, input().split(' '))\n",
    "    x_list.append(x)\n",
    "    y_list.append(y)\n",
    "\n",
    "for i in range(-1, len(x_list) - 1):\n",
    "    answer += ((x_list[i] * y_list[i + 1]) - (x_list[i + 1] * y_list[i]))\n",
    "\n",
    "print(abs(answer) / 2)"
   ]
  },
  {
   "cell_type": "code",
   "execution_count": 11,
   "metadata": {},
   "outputs": [
    {
     "output_type": "stream",
     "name": "stdout",
     "text": [
      "0\n"
     ]
    }
   ],
   "source": [
    "# 다각형의 면적 공식에서 약간만 바꾸면 이 합이 음수일 경우 시계방향, 아닐 경우 반시계방향\n",
    "\n",
    "#원리는 벡터의 외적\n",
    "\n",
    "x_list, y_list, answer = [], [], 0\n",
    "\n",
    "for i in range(3): #삼각형\n",
    "    x, y = map(int, input().split(' '))\n",
    "    x_list.append(x)\n",
    "    y_list.append(y)\n",
    "\n",
    "for i in range(-1, len(x_list) - 1):\n",
    "    answer += ((x_list[i] * y_list[i + 1]) - (x_list[i + 1] * y_list[i]))\n",
    "\n",
    "print((-1 if answer < 0 else 0) if answer <= 0 else 1)"
   ]
  },
  {
   "cell_type": "code",
   "execution_count": null,
   "metadata": {},
   "outputs": [],
   "source": [
    "point_list, answer = [], 0\n",
    "\n",
    "for _ in range(int(input())):\n",
    "    point_list.append(map(int, input().split(' ')))\n",
    "\n"
   ]
  },
  {
   "cell_type": "code",
   "execution_count": null,
   "metadata": {},
   "outputs": [],
   "source": [
    "circles = []\n",
    "for _ in range(int(input())):\n",
    "    sx, sy, ex, ey = map(int, input().split(' '))\n",
    "    for _ in range(int(input())):\n",
    "        circles.append(map(int, input().split(' ')))\n",
    "        # cx, cy, cr = map(int, input().split(' '))\n",
    "print(circles)"
   ]
  }
 ]
}